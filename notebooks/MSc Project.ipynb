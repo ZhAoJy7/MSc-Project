{
 "cells": [
  {
   "cell_type": "markdown",
   "metadata": {
    "ein.tags": "worksheet-0",
    "slideshow": {
     "slide_type": "-"
    }
   },
   "source": [
    "#  Convolutional Encoder-Decoder Networks for Robust Image-to-Motion Prediction"
   ]
  },
  {
   "cell_type": "markdown",
   "metadata": {
    "ein.tags": "worksheet-0",
    "slideshow": {
     "slide_type": "-"
    }
   },
   "source": [
    "## Setup"
   ]
  },
  {
   "cell_type": "code",
   "execution_count": 1,
   "metadata": {
    "autoscroll": false,
    "ein.hycell": false,
    "ein.tags": "worksheet-0",
    "slideshow": {
     "slide_type": "-"
    }
   },
   "outputs": [
    {
     "data": {
      "text/plain": [
       "<matplotlib.pyplot._IonContext at 0x2431cdc5340>"
      ]
     },
     "execution_count": 1,
     "metadata": {},
     "output_type": "execute_result"
    }
   ],
   "source": [
    "from __future__ import print_function, division\n",
    "%reload_ext autoreload\n",
    "%autoreload 2\n",
    "%matplotlib inline\n",
    "\n",
    "\n",
    "\n",
    "import os\n",
    "import sys\n",
    "\n",
    "# NOTE: Inferring the project root path like this will not always work\n",
    "# (e.g. when the notebook resides on a different server to the kernel)\n",
    "# Set the path directly if necessary.\n",
    "root_path = os.path.dirname(os.getcwd())\n",
    "\n",
    "sys.path.append(root_path)\n",
    "\n",
    "import torch\n",
    "import torch.nn as nn\n",
    "import torch.optim as optim\n",
    "from torch.optim import lr_scheduler\n",
    "import numpy as np\n",
    "import torchvision\n",
    "from torchvision import datasets, models, transforms\n",
    "from torch.utils.data.sampler import SubsetRandomSampler\n",
    "import matplotlib.pyplot as plt\n",
    "import time\n",
    "import copy\n",
    "import glob\n",
    "import re\n",
    "import importlib\n",
    "from PIL import Image\n",
    "\n",
    "from imednet.data.smnist_loader import MatLoader, Mapping\n",
    "from imednet.trainers.encoder_decoder_trainer import Trainer\n",
    "from imednet.data.nmnist_loader import NMNIST\n",
    "from imednet.utils.frechetdist import frechetdist\n",
    "\n",
    "plt.ion()   # interactive mode"
   ]
  },
  {
   "cell_type": "markdown",
   "metadata": {
    "ein.tags": "worksheet-0",
    "slideshow": {
     "slide_type": "-"
    }
   },
   "source": [
    "## Load Model"
   ]
  },
  {
   "cell_type": "markdown",
   "metadata": {},
   "source": [
    "Helper function for loading saved models:"
   ]
  },
  {
   "cell_type": "code",
   "execution_count": 2,
   "metadata": {},
   "outputs": [],
   "source": [
    "def load_model(root_path, model_path):\n",
    "    # Read network description file\n",
    "    with open(os.path.join(root_path, model_path, 'network_description.txt')) as f:\n",
    "        network_description_str = f.read()\n",
    "\n",
    "    # Get the model class from the network description and dynamically import it\n",
    "    model_module_class_str = re.search('Model: (.+?)\\n', network_description_str).group(1)\n",
    "    model_module_str = os.path.splitext(model_module_class_str)[0]\n",
    "    model_class_str = os.path.splitext(model_module_class_str)[1][1:]\n",
    "    model_module = importlib.import_module(model_module_str)\n",
    "    model_class = getattr(model_module, model_class_str)\n",
    "\n",
    "    # Get the pre-trained CNN model load path from the network description\n",
    "    if model_class_str == 'CNNEncoderDecoderNet':\n",
    "        pre_trained_cnn_model_path = os.path.join(root_path, re.search('Pre-trained CNN model load path: (.+?)\\n', network_description_str).group(1))\n",
    "\n",
    "    # Load layer sizes\n",
    "    layer_sizes = np.load(os.path.join(model_path, 'layer_sizes.npy')).tolist()\n",
    "\n",
    "    # Load scaling\n",
    "    try:\n",
    "        scaling = Mapping()\n",
    "        scaling.x_max = np.load(os.path.join(root_path, model_path, 'scale_x_max.npy'))\n",
    "        scaling.x_min = np.load(os.path.join(root_path, model_path, 'scale_x_min.npy'))\n",
    "        scaling.y_max = np.load(os.path.join(root_path, model_path, 'scale_y_max.npy'))\n",
    "        scaling.y_min = np.load(os.path.join(root_path, model_path, 'scale_y_min.npy'))\n",
    "    except:\n",
    "        scaling = np.load(os.path.join(root_path, model_path, 'scale.npy'))\n",
    "\n",
    "    # Load the model\n",
    "    if model_class_str == 'CNNEncoderDecoderNet':\n",
    "        model = model_class(pre_trained_cnn_model_path, layer_sizes, scaling)\n",
    "    else:\n",
    "        model = model_class(layer_sizes, None, scaling)\n",
    "        \n",
    "    # Load the model state parameters\n",
    "    state = torch.load(os.path.join(root_path, model_path, 'net_parameters'))\n",
    "    model.load_state_dict(state)\n",
    "    \n",
    "    return model"
   ]
  },
  {
   "cell_type": "markdown",
   "metadata": {},
   "source": [
    "### Select and load one of the below models:"
   ]
  },
  {
   "cell_type": "code",
   "execution_count": 3,
   "metadata": {},
   "outputs": [
    {
     "ename": "FileNotFoundError",
     "evalue": "[Errno 2] No such file or directory: 'E:\\\\jupter notebook\\\\imednet\\\\models\\\\encoder_decoder\\\\Model 21-07-21 17_41_18 21-07-21 17_41_18\\\\network_description.txt'",
     "output_type": "error",
     "traceback": [
      "\u001b[1;31m---------------------------------------------------------------------------\u001b[0m",
      "\u001b[1;31mFileNotFoundError\u001b[0m                         Traceback (most recent call last)",
      "\u001b[1;32m<ipython-input-3-be729ef28da4>\u001b[0m in \u001b[0;36m<module>\u001b[1;34m\u001b[0m\n\u001b[0;32m      1\u001b[0m \u001b[0mmodel_path\u001b[0m \u001b[1;33m=\u001b[0m \u001b[0mos\u001b[0m\u001b[1;33m.\u001b[0m\u001b[0mpath\u001b[0m\u001b[1;33m.\u001b[0m\u001b[0mjoin\u001b[0m\u001b[1;33m(\u001b[0m\u001b[0mroot_path\u001b[0m\u001b[1;33m,\u001b[0m \u001b[1;34m'models\\encoder_decoder\\\\Model 21-07-21 17_41_18 21-07-21 17_41_18'\u001b[0m\u001b[1;33m)\u001b[0m\u001b[1;33m\u001b[0m\u001b[1;33m\u001b[0m\u001b[0m\n\u001b[1;32m----> 2\u001b[1;33m \u001b[0mmodel\u001b[0m \u001b[1;33m=\u001b[0m \u001b[0mload_model\u001b[0m\u001b[1;33m(\u001b[0m\u001b[0mroot_path\u001b[0m\u001b[1;33m,\u001b[0m \u001b[0mmodel_path\u001b[0m\u001b[1;33m)\u001b[0m\u001b[1;33m\u001b[0m\u001b[1;33m\u001b[0m\u001b[0m\n\u001b[0m\u001b[0;32m      3\u001b[0m \u001b[0mmodel_stub\u001b[0m \u001b[1;33m=\u001b[0m \u001b[1;34m'imednet_etoe'\u001b[0m\u001b[1;33m\u001b[0m\u001b[1;33m\u001b[0m\u001b[0m\n",
      "\u001b[1;32m<ipython-input-2-2a07a70b300b>\u001b[0m in \u001b[0;36mload_model\u001b[1;34m(root_path, model_path)\u001b[0m\n\u001b[0;32m      1\u001b[0m \u001b[1;32mdef\u001b[0m \u001b[0mload_model\u001b[0m\u001b[1;33m(\u001b[0m\u001b[0mroot_path\u001b[0m\u001b[1;33m,\u001b[0m \u001b[0mmodel_path\u001b[0m\u001b[1;33m)\u001b[0m\u001b[1;33m:\u001b[0m\u001b[1;33m\u001b[0m\u001b[1;33m\u001b[0m\u001b[0m\n\u001b[0;32m      2\u001b[0m     \u001b[1;31m# Read network description file\u001b[0m\u001b[1;33m\u001b[0m\u001b[1;33m\u001b[0m\u001b[1;33m\u001b[0m\u001b[0m\n\u001b[1;32m----> 3\u001b[1;33m     \u001b[1;32mwith\u001b[0m \u001b[0mopen\u001b[0m\u001b[1;33m(\u001b[0m\u001b[0mos\u001b[0m\u001b[1;33m.\u001b[0m\u001b[0mpath\u001b[0m\u001b[1;33m.\u001b[0m\u001b[0mjoin\u001b[0m\u001b[1;33m(\u001b[0m\u001b[0mroot_path\u001b[0m\u001b[1;33m,\u001b[0m \u001b[0mmodel_path\u001b[0m\u001b[1;33m,\u001b[0m \u001b[1;34m'network_description.txt'\u001b[0m\u001b[1;33m)\u001b[0m\u001b[1;33m)\u001b[0m \u001b[1;32mas\u001b[0m \u001b[0mf\u001b[0m\u001b[1;33m:\u001b[0m\u001b[1;33m\u001b[0m\u001b[1;33m\u001b[0m\u001b[0m\n\u001b[0m\u001b[0;32m      4\u001b[0m         \u001b[0mnetwork_description_str\u001b[0m \u001b[1;33m=\u001b[0m \u001b[0mf\u001b[0m\u001b[1;33m.\u001b[0m\u001b[0mread\u001b[0m\u001b[1;33m(\u001b[0m\u001b[1;33m)\u001b[0m\u001b[1;33m\u001b[0m\u001b[1;33m\u001b[0m\u001b[0m\n\u001b[0;32m      5\u001b[0m \u001b[1;33m\u001b[0m\u001b[0m\n",
      "\u001b[1;31mFileNotFoundError\u001b[0m: [Errno 2] No such file or directory: 'E:\\\\jupter notebook\\\\imednet\\\\models\\\\encoder_decoder\\\\Model 21-07-21 17_41_18 21-07-21 17_41_18\\\\network_description.txt'"
     ]
    }
   ],
   "source": [
    "model_path = os.path.join(root_path, 'models\\encoder_decoder\\\\Model 21-07-21 17_41_18 21-07-21 17_41_18')\n",
    "model = load_model(root_path, model_path)\n",
    "model_stub = 'imednet_etoe'\n"
   ]
  },
  {
   "cell_type": "markdown",
   "metadata": {},
   "source": [
    "### Image-to-Motion Encoder Decoder (IMEDNet)"
   ]
  },
  {
   "cell_type": "code",
   "execution_count": null,
   "metadata": {},
   "outputs": [],
   "source": [
    "model_path = os.path.join(root_path, 'models\\encoder_decoder\\\\Model 21-07-21 17_41_18 21-07-21 17_41_18')\n",
    "model = load_model(root_path, model_path)\n",
    "model_stub = 'imednet_etoe'"
   ]
  },
  {
   "cell_type": "markdown",
   "metadata": {},
   "source": [
    "### Image-to-Motion Encoder Decoder (IMEDNet) Trained with Adam"
   ]
  },
  {
   "cell_type": "code",
   "execution_count": null,
   "metadata": {},
   "outputs": [],
   "source": [
    "model_path = os.path.join(root_path, 'models/encoder_decoder/40x40-smnist-adam 2018-07-22 18_44_42.318301/')\n",
    "model = load_model(root_path, model_path)\n",
    "model_stub = 'imednet_etoe_adam'"
   ]
  },
  {
   "cell_type": "markdown",
   "metadata": {},
   "source": [
    "### Convolutional Image-to-Motion Encoder-Decoder (CIMEDNet) with Frozen Convolutional Layer Weights"
   ]
  },
  {
   "cell_type": "code",
   "execution_count": null,
   "metadata": {},
   "outputs": [],
   "source": [
    "model_path = os.path.join(root_path, 'models\\\\cnn_encoder_decoder\\\\Model 21-07-21 17_41_18 21-07-21 17_41_18')\n",
    "model = load_model(root_path, model_path)\n",
    "model_stub = 'cimednet_frozenconv'"
   ]
  },
  {
   "cell_type": "markdown",
   "metadata": {},
   "source": [
    "### Convolutional Image-to-Motion Encoder-Decoder (CIMEDNet) Trained End-to-End"
   ]
  },
  {
   "cell_type": "code",
   "execution_count": null,
   "metadata": {},
   "outputs": [],
   "source": [
    "# model_path = os.path.join(root_path, 'models/cnn_encoder_decoder/40x40-smnist-end-to-end 2018-07-19 15:21:32.827139')\n",
    "model_path = os.path.join(root_path, 'models/cnn_encoder_decoder/Model 24-06-21 11_49_19 24-06-21 11_49_19')\n",
    "\n",
    "model = load_model(root_path, model_path)\n",
    "model_stub = 'cimednet_etoe'"
   ]
  },
  {
   "cell_type": "markdown",
   "metadata": {},
   "source": [
    "### Convolutional Image-to-Motion Encoder-Decoder with Fully-Connected Encoder Layers (CFCIMEDNet) Trained End-to-End"
   ]
  },
  {
   "cell_type": "code",
   "execution_count": null,
   "metadata": {},
   "outputs": [],
   "source": [
    "model_path = os.path.join(root_path, 'models\\\\cnn_encoder_decoder\\\\Model 22-07-21 08_48_05 22-07-21 08_48_05')\n",
    "model = load_model(root_path, model_path)\n",
    "model_stub = 'cfcimednet_etoe'"
   ]
  },
  {
   "cell_type": "markdown",
   "metadata": {},
   "source": [
    "### Convolutional Image-to-Motion Encoder-Decoder (CIMEDNet) with Frozen Convolutional Layer Weights, Trained with Adam"
   ]
  },
  {
   "cell_type": "code",
   "execution_count": null,
   "metadata": {},
   "outputs": [],
   "source": [
    "model_path = os.path.join(root_path, 'models/cnn_encoder_decoder/cimednet-40x40-smnist-adam 2018-07-22 17:10:44.630909')\n",
    "model = load_model(root_path, model_path)\n",
    "model_stub = 'cimednet_frozenconv_adam'"
   ]
  },
  {
   "cell_type": "markdown",
   "metadata": {},
   "source": [
    "### Convolutional Image-to-Motion Encoder-Decoder (CIMEDNet) Trained End-to-End with Adam"
   ]
  },
  {
   "cell_type": "code",
   "execution_count": null,
   "metadata": {},
   "outputs": [],
   "source": [
    "model_path = os.path.join(root_path, 'models/cnn_encoder_decoder/cimednet-40x40-smnist-end-to-end-adam 2018-07-22 17:10:57.504620')\n",
    "model = load_model(root_path, model_path)\n",
    "model_stub = 'cimednet_etoe_adam'"
   ]
  },
  {
   "cell_type": "markdown",
   "metadata": {},
   "source": [
    "### Convolutional Image-to-Motion Encoder-Decoder with Fully-Connected Encoder Layers (CFCIMEDNet) with Frozen Convolutional Layer Weights, Trained with Adam"
   ]
  },
  {
   "cell_type": "code",
   "execution_count": null,
   "metadata": {},
   "outputs": [],
   "source": [
    "model_path = os.path.join(root_path, 'models/cnn_encoder_decoder/cfcimednet-40x40-smnist-adam 2018-07-22 17:11:11.006303/')\n",
    "model = load_model(root_path, model_path)\n",
    "model_stub = 'cfcimednet_frozenconv_adam'"
   ]
  },
  {
   "cell_type": "markdown",
   "metadata": {},
   "source": [
    "### Convolutional Image-to-Motion Encoder-Decoder with Fully-Connected Encoder Layers (CFCIMEDNet) Trained End-to-End with Adam"
   ]
  },
  {
   "cell_type": "code",
   "execution_count": null,
   "metadata": {},
   "outputs": [],
   "source": [
    "model_path = os.path.join(root_path, 'models\\cnn_encoder_decoder\\cfcimednet-40x40-smnist-end-to-end-adam 2018-07-22 17_11_17.144898')\n",
    "model = load_model(root_path, model_path)\n",
    "model_stub = 'cfcimednet_etoe_adam'"
   ]
  },
  {
   "cell_type": "markdown",
   "metadata": {
    "ein.tags": "worksheet-0",
    "slideshow": {
     "slide_type": "-"
    }
   },
   "source": [
    "## Load Data"
   ]
  },
  {
   "cell_type": "markdown",
   "metadata": {},
   "source": [
    "Select and load one of the below datasets."
   ]
  },
  {
   "cell_type": "markdown",
   "metadata": {},
   "source": [
    "### Synthetic MNIST (s-MNIST)"
   ]
  },
  {
   "cell_type": "code",
   "execution_count": null,
   "metadata": {},
   "outputs": [],
   "source": [
    "data_path = os.path.join(root_path, 'data\\s-mnist\\\\40x40-smnist-rotated.mat')\n",
    "data_stub = 'smnist'"
   ]
  },
  {
   "cell_type": "markdown",
   "metadata": {},
   "source": [
    "### Synthetic MNIST with Additive White Gaussian Noise with 19.0 Signal-to-Noise Ratio (s-MNIST-AWGN-19-SNR)"
   ]
  },
  {
   "cell_type": "code",
   "execution_count": null,
   "metadata": {},
   "outputs": [],
   "source": [
    "data_path = os.path.join(root_path, 'data\\s-mnist\\\\40x40-smnist-with-awgn-double-snr-seed-42.mat')\n",
    "data_stub = 'smnist_awgn_19_0_snr'"
   ]
  },
  {
   "cell_type": "markdown",
   "metadata": {},
   "source": [
    "### Synthetic MNIST with Additive White Gaussian Noise with 9.5 Signal-to-Noise Ratio (s-MNIST-AWGN-9.5-SNR)"
   ]
  },
  {
   "cell_type": "code",
   "execution_count": 4,
   "metadata": {},
   "outputs": [],
   "source": [
    "data_path = os.path.join(root_path, 'data\\s-mnist\\\\40x40-smnist-with-awgn-seed-42.mat')\n",
    "data_stub = 'smnist_awgn_9_5_snr'"
   ]
  },
  {
   "cell_type": "markdown",
   "metadata": {},
   "source": [
    "### Synthetic MNIST with Motion Blur (s-MNIST-MB)"
   ]
  },
  {
   "cell_type": "code",
   "execution_count": 16,
   "metadata": {},
   "outputs": [],
   "source": [
    "data_path = os.path.join(root_path, 'data\\s-mnist\\\\40x40-smnist-with-motion-blur-seed-42.mat')\n",
    "data_stub = 'smnist_mb'"
   ]
  },
  {
   "cell_type": "markdown",
   "metadata": {},
   "source": [
    "### Synthetic MNIST with Reduced Contrast and Additive White Gaussian Noise (s-MNIST-RC-AWGN)\n"
   ]
  },
  {
   "cell_type": "code",
   "execution_count": null,
   "metadata": {},
   "outputs": [],
   "source": [
    "data_path = os.path.join(root_path, 'data\\s-mnist\\\\40x40-smnist-with-reduced-contrast-and-awgn-seed-42.mat')\n",
    "data_stub = 'smnist_rc_awgn'"
   ]
  },
  {
   "cell_type": "markdown",
   "metadata": {},
   "source": [
    "### Synthetic MNIST with Gaussian Background\n"
   ]
  },
  {
   "cell_type": "code",
   "execution_count": null,
   "metadata": {},
   "outputs": [],
   "source": [
    "data_path = os.path.join(root_path, 'data\\s-mnist\\\\40x40-smnist-with-gaussian-background.mat')\n",
    "data_stub = 'gaussian_background'"
   ]
  },
  {
   "cell_type": "code",
   "execution_count": null,
   "metadata": {},
   "outputs": [],
   "source": [
    "data_path = os.path.join(root_path, 'data\\s-mnist\\\\40x40-smnist-inverted-with-gaussian-background.mat')\n",
    "data_stub = 'inverted_with_gaussian_background'"
   ]
  },
  {
   "cell_type": "markdown",
   "metadata": {
    "ein.tags": "worksheet-0",
    "slideshow": {
     "slide_type": "-"
    }
   },
   "source": [
    "## Test Model on Data"
   ]
  },
  {
   "cell_type": "code",
   "execution_count": 17,
   "metadata": {
    "autoscroll": false,
    "ein.hycell": false,
    "ein.tags": "worksheet-0",
    "slideshow": {
     "slide_type": "-"
    }
   },
   "outputs": [],
   "source": [
    "# Load data and scale it\n",
    "images, outputs, scale, original_trj = MatLoader.load_data(data_path)\n",
    "\n",
    "# Load the data split from the 'net_indeks.npy' file.\n",
    "# NOTE: This is the train/val/test split that was used to divide the\n",
    "# dataset originally used to train the model.\n",
    "# We use the same split on the other datasets listed here for\n",
    "# convenience, because they are the same size.\n",
    "# TODO: This should be fixed.  The data splitting function should\n",
    "# be moved from the trainer to the data loaders.\n",
    "trainer = Trainer()\n",
    "# trainer.indeks = np.load(os.path.join(model_path, 'net_indeks.npy'))\n",
    "    \n",
    "# input_data_train_b, output_data_train_b, \\\n",
    "#     input_data_test_b, output_data_test_b, \\\n",
    "#     input_data_validate_b, output_data_validate_b \\\n",
    "#     = trainer.split_dataset(images, outputs)"
   ]
  },
  {
   "cell_type": "code",
   "execution_count": 18,
   "metadata": {},
   "outputs": [
    {
     "name": "stdout",
     "output_type": "stream",
     "text": [
      "(3000, 55)\n",
      "0\n"
     ]
    }
   ],
   "source": [
    "print(outputs.shape)\n",
    "print(len(original_trj))"
   ]
  },
  {
   "cell_type": "code",
   "execution_count": 19,
   "metadata": {},
   "outputs": [],
   "source": [
    "# torch_images = input_data_test_b[test_sample_indices, :]\n",
    "# torch_outputs = output_data_test_b[test_sample_indices, :]"
   ]
  },
  {
   "cell_type": "code",
   "execution_count": 20,
   "metadata": {},
   "outputs": [],
   "source": [
    "# Show all samples for selected digit:\n",
    "digit = 9\n",
    "indices = np.asarray(range(0,len(images)))\n",
    "test_sample_indices = indices[digit:-1:10]\n",
    "\n",
    "# Show selected samples:\n",
    "# Bad 0's for IMEDNet on s-MNIST-AWGN-19.0:\n",
    "# test_sample_indices = [490, 740, 1100, 1330, 1800, 2700]\n",
    "# Bad 1's for IMEDNet on s-MNIST-AWGN-19.0:\n",
    "# test_sample_indices = [461, 521, 901, 1001, 1101, 1431, 2061, 2141]\n",
    "# Bad 2's for IMEDNet on s-MNIST-AWGN-19.0:\n",
    "# test_sample_indices = [322, 422, 1532, 1762, 1882, 2102, 2142, 2382, 2732]\n",
    "# Bad 3's for IMEDNet on s-MNIST-AWGN-19.0:\n",
    "# test_sample_indices = [333, 1023, 1623, 2823, 2963]\n",
    "# Bad 4's for IMEDNet on s-MNIST-AWGN-19.0:\n",
    "# test_sample_indices = [214, 284, 894, 954, 1244, 1254, 1754, 1954]\n",
    "# Bad 5's for IMEDNet on s-MNIST-AWGN-19.0:\n",
    "# test_sample_indices = [295, 1715, 1795, 2075, 2265]\n",
    "# Bad 6's for IMEDNet on s-MNIST-AWGN-19.0:\n",
    "# test_sample_indices = [146, 166, 456, 546, 746, 1016, 1276, 1956, 1976, 2646]\n",
    "# Bad 7's for IMEDNet on s-MNIST-AWGN-19.0:\n",
    "# test_sample_indices = [157, 487, 547, 577, 737, 727, 977, 1147, 2327, 1577, 1687]\n",
    "# Bad 8's for IMEDNet on s-MNIST-AWGN-19.0:\n",
    "# test_sample_indices = [988, 1418, 1678, 1818, 2578, 2648]\n",
    "# Bad 9's for IMEDNet on s-MNIST-AWGN-19.0:\n",
    "# test_sample_indices = [1629, 1969, 1999, 2019]\n",
    "# Worst/Best 0-9 for IMMEDNet/CFCIMEDNet on s-MNIST-AWGN-SNR-19.0:\n",
    "# test_sample_indices = [490, 901, 2732, 1623, 214, 1715, 1976, 977, 988, 1629]\n",
    "\n",
    "# Show selected samples:\n",
    "# Good 0's for CFCIMEDNet on s-MNIST-AWGN-SNR-9.5:\n",
    "# test_sample_indices = [0, 20, 60, 90, 230, 390, 500, 1010, 1030, 2550, 2610, 2840]\n",
    "# Good 1's for CFCIMEDNet on s-MNIST-AWGN-SNR-9.5:\n",
    "# test_sample_indices = [161, 141, 191, 211, 301, 371, 421, 501, 1061, 1511, 2711]\n",
    "# Good 2's for CFCIMEDNet on s-MNIST-AWGN-SNR-9.5:\n",
    "# test_sample_indices = [42, 492, 442, 512, 1262, 1702, 1982, 2382]\n",
    "# Good 3's for CFCIMEDNet on s-MNIST-AWGN-SNR-9.5:\n",
    "# test_sample_indices = [663, 893, 1693, 1793, 2113, 2333, 2383, 2673, 2953]\n",
    "# Good 4's for CFCIMEDNet on s-MNIST-AWGN-SNR-9.5:\n",
    "# test_sample_indices = [54, 94, 334, 404, 414, 854]\n",
    "# Good 5's for CFCIMEDNet on s-MNIST-AWGN-SNR-9.5:\n",
    "# test_sample_indices = [85, 385, 695, 845, 885, 1005, 1345, 1395, 1535, 1785, 1865, 1955, 2025]\n",
    "# Good 6's for CFCIMEDNet on s-MNIST-AWGN-SNR-9.5:\n",
    "# test_sample_indices = [166, 176, 386, 966, 1596, 1616, 1666, 1986, 2126, 2316, 2776]\n",
    "# Good 7's for CFCIMEDNet on s-MNIST-AWGN-SNR-9.5:\n",
    "# test_sample_indices = [27, 147, 1117, 2017, 2747, 2847, 2947]\n",
    "# Good 8's for CFCIMEDNet on s-MNIST-AWGN-SNR-9.5:\n",
    "# test_sample_indices = [8, 88, 718, 998, 1068, 1458, 1578, 1838, 2628, 2978]\n",
    "# Good 9's for CFCIMEDNet on s-MNIST-AWGN-SNR-9.5:\n",
    "# test_sample_indices = [229, 789, 919, 1029, 1329, 1609, 1789, 1819, 2629, 2549, 2799, 2909]\n",
    "# Worst/Best 0-9 for IMMEDNet/CFCIMEDNet on s-MNIST-AWGN-SNR-9.5:\n",
    "test_sample_indices = [1010, 1511, 492, 1693, 94, 1535, 1986, 2847, 88, 1819]"
   ]
  },
  {
   "cell_type": "code",
   "execution_count": 21,
   "metadata": {
    "autoscroll": false,
    "ein.hycell": false,
    "ein.tags": "worksheet-0",
    "slideshow": {
     "slide_type": "-"
    }
   },
   "outputs": [
    {
     "data": {
      "image/png": "[encoded data removed]",
      "text/plain": [
       "<Figure size 432x288 with 10 Axes>"
      ]
     },
     "metadata": {
      "needs_background": "light"
     },
     "output_type": "display_data"
    },
    {
     "data": {
      "image/png": "[encoded data removed]",
      "text/plain": [
       "<Figure size 432x288 with 1 Axes>"
      ]
     },
     "metadata": {
      "needs_background": "light"
     },
     "output_type": "display_data"
    },
    {
     "data": {
      "image/png": "[encoded data removed]",
      "text/plain": [
       "<Figure size 432x288 with 1 Axes>"
      ]
     },
     "metadata": {
      "needs_background": "light"
     },
     "output_type": "display_data"
    },
    {
     "data": {
      "image/png": "[encoded data removed]",
      "text/plain": [
       "<Figure size 432x288 with 1 Axes>"
      ]
     },
     "metadata": {
      "needs_background": "light"
     },
     "output_type": "display_data"
    },
    {
     "data": {
      "image/png": "[encoded data removed]",
      "text/plain": [
       "<Figure size 432x288 with 1 Axes>"
      ]
     },
     "metadata": {
      "needs_background": "light"
     },
     "output_type": "display_data"
    },
    {
     "data": {
      "image/png": "[encoded data removed]",
      "text/plain": [
       "<Figure size 432x288 with 1 Axes>"
      ]
     },
     "metadata": {
      "needs_background": "light"
     },
     "output_type": "display_data"
    },
    {
     "data": {
      "image/png": "[encoded data removed]",
      "text/plain": [
       "<Figure size 432x288 with 1 Axes>"
      ]
     },
     "metadata": {
      "needs_background": "light"
     },
     "output_type": "display_data"
    },
    {
     "data": {
      "image/png": "[encoded data removed]",
      "text/plain": [
       "<Figure size 432x288 with 1 Axes>"
      ]
     },
     "metadata": {
      "needs_background": "light"
     },
     "output_type": "display_data"
    },
    {
     "data": {
      "image/png": "[encoded data removed]",
      "text/plain": [
       "<Figure size 432x288 with 1 Axes>"
      ]
     },
     "metadata": {
      "needs_background": "light"
     },
     "output_type": "display_data"
    },
    {
     "data": {
      "image/png": "[encoded data removed]",
      "text/plain": [
       "<Figure size 432x288 with 1 Axes>"
      ]
     },
     "metadata": {
      "needs_background": "light"
     },
     "output_type": "display_data"
    },
    {
     "data": {
      "image/png": "[encoded data removed]",
      "text/plain": [
       "<Figure size 432x288 with 1 Axes>"
      ]
     },
     "metadata": {
      "needs_background": "light"
     },
     "output_type": "display_data"
    },
    {
     "name": "stdout",
     "output_type": "stream",
     "text": [
      "the similarity calculated from frechetdist is2.1012320878292985 on data:E:\\jupter notebook\\imednet\\data\\s-mnist\\40x40-smnist-with-motion-blur-seed-42.mat\n"
     ]
    }
   ],
   "source": [
    "# 关键方法 trainer createdmp showdmp\n",
    "torch_images = torch.autograd.Variable(torch.from_numpy(images[test_sample_indices, :])).float()\n",
    "plt.figure()\n",
    "for i in range(1,11):\n",
    "    plt.subplot(2,5,i)\n",
    "    plt.imshow(torch_images[i-1])\n",
    "plt.show()\n",
    "torch_outputs = torch.autograd.Variable(torch.from_numpy(outputs[test_sample_indices, :])).float()\n",
    "\n",
    "torch_predicted_outputs = model(torch_images)\n",
    "eva=0\n",
    "for i_sample in range(torch_predicted_outputs.shape[0]):\n",
    "    sample_output_dmp = trainer.create_dmp(torch_outputs[i_sample,:], model.scale, 0.01, 25, True)\n",
    "    torch_sample_predicted_output = torch.cat((torch.tensor([-1.]), torch_predicted_outputs[i_sample,:]), 0)\n",
    "    sample_predicted_output_dmp = trainer.create_dmp(torch_sample_predicted_output, model.scale, 0.01, 25, True)\n",
    "    sample_output_dmp.joint()\n",
    "    fig, _ = trainer.show_dmp(torch_images[i_sample,:], sample_output_dmp.Y, sample_predicted_output_dmp, plot=True)\n",
    "    eva=eva+frechetdist(sample_output_dmp.Y, sample_predicted_output_dmp.Y)\n",
    "    np.save(\"{}.npy\".format(i_sample), sample_predicted_output_dmp.Y)\n",
    "    # fig.suptitle('Sample: {}'.format(test_sample_indices[i_sample], fontsize=20))\n",
    "    fig.savefig(os.path.join(root_path, 'figures/', model_stub + '_' + data_stub + '_' + str(i_sample) + '.png'))\n",
    "    # fig, mat = trainer.show_dmp(torch_images[i_sample,:], None, sample_predicted_output_dmp, plot=False)\n",
    "eva=eva/torch_predicted_outputs.shape[0]\n",
    "print(\"the similarity calculated from frechetdist is{} on data:{}\".format(eva,data_path))\n",
    "net_description_save_path = os.path.join(model_path, 'network_description.txt')\n",
    "net_description_file = open(net_description_save_path, 'a')\n",
    "net_description_file.write('\\nThe similarity calculated from frechetdist is{}'.format(eva))\n",
    "net_description_file.close()"
   ]
  },
  {
   "cell_type": "markdown",
   "metadata": {
    "ein.tags": "worksheet-0",
    "slideshow": {
     "slide_type": "-"
    }
   },
   "source": [
    "## Test Model on MNIST Images"
   ]
  },
  {
   "cell_type": "markdown",
   "metadata": {},
   "source": [
    "Define helper function for image-to-motion prediction visualization:"
   ]
  },
  {
   "cell_type": "code",
   "execution_count": 22,
   "metadata": {},
   "outputs": [],
   "source": [
    "def show_image_to_motion_prediction(model, trainer, image):\n",
    "    try:\n",
    "        image_size = model.image_size\n",
    "    except:\n",
    "        try:\n",
    "            image_size = model.imageSize\n",
    "        except:\n",
    "            image_size = 40\n",
    "        \n",
    "    pil_image = Image.fromarray(np.uint8(image))\n",
    "    pil_scaled_image = pil_image.resize((image_size, image_size))\n",
    "    \n",
    "    scaled_image = np.array(pil_scaled_image).reshape(1, image_size*image_size)\n",
    "    scaled_image = scaled_image / np.max(scaled_image)\n",
    "    scaled_image=scaled_image.reshape(40,40)\n",
    "    \n",
    "    torch_scaled_image = torch.autograd.Variable(torch.from_numpy(scaled_image)).float()\n",
    "    torch_scaled_image_predicted_output = model(torch_scaled_image)\n",
    "    torch_scaled_image_predicted_output = torch.cat((torch.tensor([-1.]), torch_scaled_image_predicted_output[0,:]), 0)\n",
    "    \n",
    "    scaled_image_predicted_output_dmp = trainer.create_dmp(torch_scaled_image_predicted_output, model.scale, 0.01, 25, True)\n",
    "    scaled_image_predicted_output_dmp.joint()\n",
    "    print(scaled_image.shape)\n",
    "    fig, _ = trainer.show_dmp(scaled_image, None, scaled_image_predicted_output_dmp, plot=False)"
   ]
  },
  {
   "cell_type": "code",
   "execution_count": 23,
   "metadata": {
    "autoscroll": false,
    "ein.hycell": false,
    "ein.tags": "worksheet-0",
    "slideshow": {
     "slide_type": "-"
    }
   },
   "outputs": [
    {
     "data": {
      "text/plain": [
       "(10000, 784)"
      ]
     },
     "execution_count": 23,
     "metadata": {},
     "output_type": "execute_result"
    }
   ],
   "source": [
    "import mnist\n",
    "from mnist import MNIST\n",
    "mndata = MNIST(os.path.join(root_path, 'data/mnist/raw'))\n",
    "mnist_images, mnist_labels = mndata.load_testing()\n",
    "mnist_images = np.asarray(mnist_images)\n",
    "mnist_images.shape"
   ]
  },
  {
   "cell_type": "code",
   "execution_count": 24,
   "metadata": {
    "autoscroll": false,
    "ein.hycell": false,
    "ein.tags": "worksheet-0",
    "slideshow": {
     "slide_type": "-"
    }
   },
   "outputs": [
    {
     "name": "stdout",
     "output_type": "stream",
     "text": [
      "(40, 40)\n",
      "(40, 40)\n",
      "(40, 40)\n",
      "(40, 40)\n",
      "(40, 40)\n"
     ]
    },
    {
     "data": {
      "image/png": "[encoded data removed]",
      "text/plain": [
       "<Figure size 432x288 with 1 Axes>"
      ]
     },
     "metadata": {
      "needs_background": "light"
     },
     "output_type": "display_data"
    },
    {
     "data": {
      "image/png": "[encoded data removed]",
      "text/plain": [
       "<Figure size 432x288 with 1 Axes>"
      ]
     },
     "metadata": {
      "needs_background": "light"
     },
     "output_type": "display_data"
    },
    {
     "data": {
      "image/png": "[encoded data removed]",
      "text/plain": [
       "<Figure size 432x288 with 1 Axes>"
      ]
     },
     "metadata": {
      "needs_background": "light"
     },
     "output_type": "display_data"
    },
    {
     "data": {
      "image/png": "[encoded data removed]",
      "text/plain": [
       "<Figure size 432x288 with 1 Axes>"
      ]
     },
     "metadata": {
      "needs_background": "light"
     },
     "output_type": "display_data"
    },
    {
     "data": {
      "image/png": "[encoded data removed]",
      "text/plain": [
       "<Figure size 432x288 with 1 Axes>"
      ]
     },
     "metadata": {
      "needs_background": "light"
     },
     "output_type": "display_data"
    }
   ],
   "source": [
    "# i_sample = np.random.randint(mnist_images.shape[0])\n",
    "for i in range (5):\n",
    "    i_sample=i\n",
    "    mnist_sample = mnist_images[i_sample,:].reshape(28,28)\n",
    "    show_image_to_motion_prediction(model, trainer, mnist_sample)"
   ]
  },
  {
   "cell_type": "markdown",
   "metadata": {
    "autoscroll": false,
    "ein.hycell": false,
    "ein.tags": "worksheet-0",
    "slideshow": {
     "slide_type": "-"
    }
   },
   "source": [
    "## Test Model on n-MNIST Images"
   ]
  },
  {
   "cell_type": "code",
   "execution_count": null,
   "metadata": {},
   "outputs": [],
   "source": [
    "import scipy.io as sio\n",
    "nmnist_awgn_mat = sio.loadmat(os.path.join(root_path, 'data/n-mnist/raw/mnist-with-awgn.mat'))\n",
    "nmnist_awgn_images = nmnist_awgn_mat['test_x']"
   ]
  },
  {
   "cell_type": "code",
   "execution_count": null,
   "metadata": {},
   "outputs": [],
   "source": [
    "i_sample = np.random.randint(nmnist_awgn_images.shape[0])\n",
    "nmnist_awgn_sample = nmnist_awgn_images[i_sample,:].reshape(28,28)\n",
    "show_image_to_motion_prediction(model, trainer, nmnist_awgn_sample)"
   ]
  },
  {
   "cell_type": "code",
   "execution_count": null,
   "metadata": {},
   "outputs": [],
   "source": [
    "model.scale"
   ]
  },
  {
   "cell_type": "code",
   "execution_count": null,
   "metadata": {},
   "outputs": [],
   "source": [
    "torch_images = torch.autograd.Variable(torch.from_numpy(images[test_sample_indices, :])).float()\n",
    "torch_outputs = torch.autograd.Variable(torch.from_numpy(outputs[test_sample_indices, :])).float()\n",
    "\n",
    "torch_predicted_outputs = model(torch_images)"
   ]
  },
  {
   "cell_type": "code",
   "execution_count": null,
   "metadata": {},
   "outputs": [],
   "source": [
    "torch_predicted_outputs.shape"
   ]
  },
  {
   "cell_type": "code",
   "execution_count": null,
   "metadata": {},
   "outputs": [],
   "source": []
  }
 ],
 "metadata": {
  "kernelspec": {
   "display_name": "Python 3",
   "language": "python",
   "name": "python3"
  },
  "language_info": {
   "codemirror_mode": {
    "name": "ipython",
    "version": 3
   },
   "file_extension": ".py",
   "mimetype": "text/x-python",
   "name": "python",
   "nbconvert_exporter": "python",
   "pygments_lexer": "ipython3",
   "version": "3.8.10"
  },
  "name": "Pretrained CNN + Encoder-Decoder.ipynb"
 },
 "nbformat": 4,
 "nbformat_minor": 2
}
